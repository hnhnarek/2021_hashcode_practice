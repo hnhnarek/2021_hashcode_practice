{
 "cells": [
  {
   "cell_type": "code",
   "execution_count": 1,
   "metadata": {},
   "outputs": [],
   "source": [
    "import numpy as np\n",
    "import matplotlib.pyplot as plt\n",
    "import os\n",
    "from tqdm import tqdm"
   ]
  },
  {
   "cell_type": "code",
   "execution_count": 2,
   "metadata": {},
   "outputs": [],
   "source": [
    "from share import process_input\n",
    "from share import score\n",
    "from random import choice\n",
    "import time"
   ]
  },
  {
   "cell_type": "code",
   "execution_count": 3,
   "metadata": {},
   "outputs": [],
   "source": [
    "from functools import partial"
   ]
  },
  {
   "cell_type": "markdown",
   "metadata": {},
   "source": [
    "# Preprocess Data"
   ]
  },
  {
   "cell_type": "code",
   "execution_count": 4,
   "metadata": {},
   "outputs": [],
   "source": [
    "problems = ['a','b','c','d','e']"
   ]
  },
  {
   "cell_type": "code",
   "execution_count": 5,
   "metadata": {},
   "outputs": [],
   "source": [
    "data = [process_input(i) for i in problems]"
   ]
  },
  {
   "cell_type": "code",
   "execution_count": null,
   "metadata": {},
   "outputs": [],
   "source": []
  },
  {
   "cell_type": "markdown",
   "metadata": {},
   "source": [
    "# Solution implementation"
   ]
  },
  {
   "cell_type": "code",
   "execution_count": 6,
   "metadata": {},
   "outputs": [],
   "source": [
    "# alg to choose next best pizza in delivery list\n",
    "def choose_best(idata, pizzas_exist, rest, overlap_optim=True, speed_optim=True, choose_approache=0):\n",
    "    ing_exist = []\n",
    "    for i in pizzas_exist:\n",
    "        ing_exist.extend(idata[i]['ingredients'])\n",
    "    ing_exist = set(ing_exist)\n",
    "    max_sc = -1\n",
    "    moverlap = 1000\n",
    "    pizza_id = None\n",
    "    for x in rest:\n",
    "        if speed_optim and idata[x]['count'] < max_sc:\n",
    "            continue\n",
    "        next_sc = len(set(idata[x]['ingredients']) - ing_exist)\n",
    "        if choose_approache == 0 and next_sc == idata[x]['count'] and next_sc >= max_sc:\n",
    "            return x\n",
    "        if choose_approache == 1 and next_sc == idata[x]['count']:\n",
    "            return x\n",
    "        overlap = idata[x]['count'] - next_sc\n",
    "        if next_sc > max_sc:\n",
    "            max_sc = next_sc\n",
    "            pizza_id = x\n",
    "            moverlap = overlap\n",
    "        elif overlap_optim and next_sc == max_sc and overlap < moverlap:\n",
    "            max_sc = next_sc\n",
    "            pizza_id = x\n",
    "            moverlap = overlap\n",
    "    return pizza_id"
   ]
  },
  {
   "cell_type": "code",
   "execution_count": 7,
   "metadata": {},
   "outputs": [],
   "source": [
    "# solution for given problem with given choose_best function\n",
    "def solve_problem(k, choose_f):\n",
    "    k_data = data[k]\n",
    "    remaining_pizzas = list(range(k_data['N']))\n",
    "    remaining_pizzas = sorted(remaining_pizzas, key = lambda x: k_data['data'][x]['count'], reverse=True)\n",
    "    result = []\n",
    "\n",
    "    # 4 members\n",
    "    print(\"N4\")\n",
    "    for team in tqdm(range(k_data['T4'])):\n",
    "        if len(remaining_pizzas) < 4:\n",
    "            break\n",
    "        t_del = []\n",
    "        for j in range(4):\n",
    "            pizza_id = choose_f(k_data['data'],t_del, remaining_pizzas)\n",
    "            if pizza_id is None:\n",
    "                t_del = []\n",
    "                print(\"Skipped\")\n",
    "                break\n",
    "            remaining_pizzas.remove(pizza_id)\n",
    "            t_del.append(pizza_id)\n",
    "        if t_del:\n",
    "            result.append(t_del)\n",
    "        else:\n",
    "            print(\"Skipped delivery\")\n",
    "            continue\n",
    "    \n",
    "    # 3 members\n",
    "    print(\"N3\")\n",
    "    for team in tqdm(range(k_data['T3'])):\n",
    "        if len(remaining_pizzas) < 3:\n",
    "            break\n",
    "        t_del = []\n",
    "        for j in range(3):\n",
    "            pizza_id = choose_f(k_data['data'],t_del, remaining_pizzas)\n",
    "            if pizza_id is None:\n",
    "                t_del = []\n",
    "                print(\"Skipped\")\n",
    "                break\n",
    "            remaining_pizzas.remove(pizza_id)\n",
    "            t_del.append(pizza_id)\n",
    "        if t_del:\n",
    "            result.append(t_del)\n",
    "        else:\n",
    "            print(\"Skipped delivery\")\n",
    "            continue\n",
    "    \n",
    "    \n",
    "    \n",
    "    # 2 members\n",
    "    print(\"N2\")\n",
    "    for team in tqdm(range(k_data['T2'])):\n",
    "        if len(remaining_pizzas) < 2:\n",
    "            break\n",
    "        t_del = []\n",
    "        for j in range(2):\n",
    "            pizza_id = choose_f(k_data['data'],t_del, remaining_pizzas)\n",
    "            if pizza_id is None:\n",
    "                t_del = []\n",
    "                print(\"Skipped\")\n",
    "                break\n",
    "            remaining_pizzas.remove(pizza_id)\n",
    "            t_del.append(pizza_id)\n",
    "        if t_del:\n",
    "            result.append(t_del)\n",
    "        else:\n",
    "            print(\"Skipped delivery\")\n",
    "            continue\n",
    "    \n",
    "    \n",
    "    return result"
   ]
  },
  {
   "cell_type": "code",
   "execution_count": 8,
   "metadata": {},
   "outputs": [],
   "source": [
    "# write to submission file\n",
    "def to_file(deliv, out_file):\n",
    "    with open(out_file,'w') as f:\n",
    "        f.write(str(len(deliv))+'\\n')\n",
    "        for i in deliv:\n",
    "            line = str(len(i)) + ' ' + ' '.join(map(str,i))\n",
    "            f.write(line+'\\n')"
   ]
  },
  {
   "cell_type": "code",
   "execution_count": 9,
   "metadata": {},
   "outputs": [],
   "source": [
    "# solve problem, save to file, score and print\n",
    "def sudo(p, choose_f):\n",
    "    deliv = solve_problem(problems.index(p), choose_f)\n",
    "    to_file(deliv, p+'_n.out')\n",
    "    sc = score(p,p+'_n.out')\n",
    "    print(p, ' ---- ', sc)\n",
    "    return sc"
   ]
  },
  {
   "cell_type": "code",
   "execution_count": null,
   "metadata": {},
   "outputs": [],
   "source": []
  },
  {
   "cell_type": "markdown",
   "metadata": {},
   "source": [
    "# Best found solutions for each task"
   ]
  },
  {
   "cell_type": "code",
   "execution_count": null,
   "metadata": {},
   "outputs": [],
   "source": [
    "# best solution for A (same for all)\n",
    "choose_f = partial(choose_best, overlap_optim=True, speed_optim=True, choose_approache=0)\n",
    "sudo('a', choose_f)"
   ]
  },
  {
   "cell_type": "code",
   "execution_count": null,
   "metadata": {},
   "outputs": [],
   "source": [
    "# best solution for B\n",
    "choose_f = partial(choose_best, overlap_optim=True, speed_optim=False, choose_approache=1)\n",
    "sudo('b', choose_f)"
   ]
  },
  {
   "cell_type": "code",
   "execution_count": null,
   "metadata": {},
   "outputs": [],
   "source": [
    "# best solution for C\n",
    "choose_f = partial(choose_best, overlap_optim=True, speed_optim=True, choose_approache=0)\n",
    "sudo('c', choose_f)"
   ]
  },
  {
   "cell_type": "code",
   "execution_count": null,
   "metadata": {},
   "outputs": [],
   "source": [
    "# best solution for D\n",
    "choose_f = partial(choose_best, overlap_optim=False, speed_optim=False, choose_approache=1)\n",
    "sudo('d', choose_f)"
   ]
  },
  {
   "cell_type": "code",
   "execution_count": null,
   "metadata": {},
   "outputs": [],
   "source": [
    "# best solution for E\n",
    "choose_f = partial(choose_best, overlap_optim=False, speed_optim=False, choose_approache=1)\n",
    "sudo('e', choose_f)"
   ]
  },
  {
   "cell_type": "code",
   "execution_count": null,
   "metadata": {},
   "outputs": [],
   "source": []
  },
  {
   "cell_type": "markdown",
   "metadata": {},
   "source": [
    "# Overall Scoring Results\n",
    "\n",
    "A – 49 points\n",
    "\n",
    "B – 12,029 points\n",
    "\n",
    "C – 706,624,573 points\n",
    "\n",
    "D – 8,061,427 points\n",
    "\n",
    "E – 10,988,056 points\n",
    "\n",
    "**Total score - 725,686,134 points**"
   ]
  },
  {
   "cell_type": "code",
   "execution_count": null,
   "metadata": {},
   "outputs": [],
   "source": []
  }
 ],
 "metadata": {
  "kernelspec": {
   "display_name": "Python 3",
   "language": "python",
   "name": "python3"
  },
  "language_info": {
   "codemirror_mode": {
    "name": "ipython",
    "version": 3
   },
   "file_extension": ".py",
   "mimetype": "text/x-python",
   "name": "python",
   "nbconvert_exporter": "python",
   "pygments_lexer": "ipython3",
   "version": "3.6.9"
  }
 },
 "nbformat": 4,
 "nbformat_minor": 4
}
